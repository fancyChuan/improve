{
 "cells": [
  {
   "cell_type": "code",
   "execution_count": 2,
   "metadata": {},
   "outputs": [],
   "source": [
    "import ast\n",
    "import astpretty\n",
    "def astshow(some):\n",
    "    astpretty.pprint(ast.parse(some).body[0])\n",
    "def astshowall(some):\n",
    "    astpretty.pprint(ast.parse(some))"
   ]
  },
  {
   "cell_type": "code",
   "execution_count": 4,
   "metadata": {},
   "outputs": [
    {
     "name": "stdout",
     "output_type": "stream",
     "text": [
      "Module(\n",
      "    body=[\n",
      "        Assign(\n",
      "            lineno=1,\n",
      "            col_offset=0,\n",
      "            targets=[Name(lineno=1, col_offset=0, id='arg1', ctx=Store())],\n",
      "            value=BinOp(\n",
      "                lineno=1,\n",
      "                col_offset=7,\n",
      "                left=Name(lineno=1, col_offset=7, id='arg1', ctx=Load()),\n",
      "                op=Add(),\n",
      "                right=Num(lineno=1, col_offset=14, n=1234569999),\n",
      "            ),\n",
      "        ),\n",
      "    ],\n",
      ")\n"
     ]
    }
   ],
   "source": [
    "astshowall(\"arg1 = arg1 + 1234569999\")"
   ]
  },
  {
   "cell_type": "code",
   "execution_count": 10,
   "metadata": {},
   "outputs": [],
   "source": [
    "txt = \"x = 8 * 7\"\n",
    "txt2 = \"y = x+3\""
   ]
  },
  {
   "cell_type": "code",
   "execution_count": 16,
   "metadata": {},
   "outputs": [
    {
     "data": {
      "text/plain": [
       "59"
      ]
     },
     "execution_count": 16,
     "metadata": {},
     "output_type": "execute_result"
    }
   ],
   "source": [
    "eval(\"x+3\", globals(), {})"
   ]
  },
  {
   "cell_type": "code",
   "execution_count": 15,
   "metadata": {},
   "outputs": [
    {
     "data": {
      "text/plain": [
       "{'In': ['',\n",
       "  u'import ast\\nimport astpretty\\ndef astshow(some):\\n    astpretty.pprint(ast.parse(some).body[0])\\ndef astshowall(some):\\n    astpretty.pprint(ast.parse(some))',\n",
       "  u'import ast\\nimport astpretty\\ndef astshow(some):\\n    astpretty.pprint(ast.parse(some).body[0])\\ndef astshowall(some):\\n    astpretty.pprint(ast.parse(some))',\n",
       "  u'astshowall(\"x =  55555\")',\n",
       "  u'astshowall(\"arg1 = arg1 + 1234569999\")',\n",
       "  u'exex(txt)',\n",
       "  u'exec(txt)',\n",
       "  u'txt = \"x = 8 * 7\"',\n",
       "  u'exec(txt)',\n",
       "  u'x',\n",
       "  u'txt = \"x = 8 * 7\"\\ntxt2 = \"y = x+3\"',\n",
       "  u'exec(txt,{},{})',\n",
       "  u'eval(txt2)',\n",
       "  u'eval(\"x+3\")',\n",
       "  u'eval(\"x+3\", {}, {})',\n",
       "  u'globals()'],\n",
       " 'Out': {9: 56, 13: 59},\n",
       " '_': 59,\n",
       " '_13': 59,\n",
       " '_9': 56,\n",
       " '__': 56,\n",
       " '___': '',\n",
       " '__builtin__': <module '__builtin__' (built-in)>,\n",
       " '__builtins__': <module '__builtin__' (built-in)>,\n",
       " '__doc__': 'Automatically created module for IPython interactive environment',\n",
       " '__name__': '__main__',\n",
       " '__package__': None,\n",
       " '_dh': [u'E:\\\\workshop\\\\improve\\\\python\\u5143\\u7f16\\u7a0b'],\n",
       " '_i': u'eval(\"x+3\", {}, {})',\n",
       " '_i1': u'import ast\\nimport astpretty\\ndef astshow(some):\\n    astpretty.pprint(ast.parse(some).body[0])\\ndef astshowall(some):\\n    astpretty.pprint(ast.parse(some))',\n",
       " '_i10': u'txt = \"x = 8 * 7\"\\ntxt2 = \"y = x+3\"',\n",
       " '_i11': u'exec(txt,{},{})',\n",
       " '_i12': u'eval(txt2)',\n",
       " '_i13': u'eval(\"x+3\")',\n",
       " '_i14': u'eval(\"x+3\", {}, {})',\n",
       " '_i15': u'globals()',\n",
       " '_i2': u'import ast\\nimport astpretty\\ndef astshow(some):\\n    astpretty.pprint(ast.parse(some).body[0])\\ndef astshowall(some):\\n    astpretty.pprint(ast.parse(some))',\n",
       " '_i3': u'astshowall(\"x =  55555\")',\n",
       " '_i4': u'astshowall(\"arg1 = arg1 + 1234569999\")',\n",
       " '_i5': u'exex(txt)',\n",
       " '_i6': u'exec(txt)',\n",
       " '_i7': u'txt = \"x = 8 * 7\"',\n",
       " '_i8': u'exec(txt)',\n",
       " '_i9': u'x',\n",
       " '_ih': ['',\n",
       "  u'import ast\\nimport astpretty\\ndef astshow(some):\\n    astpretty.pprint(ast.parse(some).body[0])\\ndef astshowall(some):\\n    astpretty.pprint(ast.parse(some))',\n",
       "  u'import ast\\nimport astpretty\\ndef astshow(some):\\n    astpretty.pprint(ast.parse(some).body[0])\\ndef astshowall(some):\\n    astpretty.pprint(ast.parse(some))',\n",
       "  u'astshowall(\"x =  55555\")',\n",
       "  u'astshowall(\"arg1 = arg1 + 1234569999\")',\n",
       "  u'exex(txt)',\n",
       "  u'exec(txt)',\n",
       "  u'txt = \"x = 8 * 7\"',\n",
       "  u'exec(txt)',\n",
       "  u'x',\n",
       "  u'txt = \"x = 8 * 7\"\\ntxt2 = \"y = x+3\"',\n",
       "  u'exec(txt,{},{})',\n",
       "  u'eval(txt2)',\n",
       "  u'eval(\"x+3\")',\n",
       "  u'eval(\"x+3\", {}, {})',\n",
       "  u'globals()'],\n",
       " '_ii': u'eval(\"x+3\")',\n",
       " '_iii': u'eval(txt2)',\n",
       " '_oh': {9: 56, 13: 59},\n",
       " '_sh': <module 'IPython.core.shadowns' from 'd:\\programdata\\anaconda2\\lib\\site-packages\\IPython\\core\\shadowns.pyc'>,\n",
       " 'ast': <module 'ast' from 'd:\\programdata\\anaconda2\\lib\\ast.pyc'>,\n",
       " 'astpretty': <module 'astpretty' from 'd:\\programdata\\anaconda2\\lib\\site-packages\\astpretty.pyc'>,\n",
       " 'astshow': <function __main__.astshow>,\n",
       " 'astshowall': <function __main__.astshowall>,\n",
       " 'exit': <IPython.core.autocall.ZMQExitAutocall at 0x3e04320>,\n",
       " 'get_ipython': <bound method ZMQInteractiveShell.get_ipython of <ipykernel.zmqshell.ZMQInteractiveShell object at 0x0000000003DDC6D8>>,\n",
       " 'quit': <IPython.core.autocall.ZMQExitAutocall at 0x3e04320>,\n",
       " 'txt': 'x = 8 * 7',\n",
       " 'txt2': 'y = x+3',\n",
       " 'x': 56}"
      ]
     },
     "execution_count": 15,
     "metadata": {},
     "output_type": "execute_result"
    }
   ],
   "source": [
    "globals() # quanbu\n",
    "locals() "
   ]
  },
  {
   "cell_type": "markdown",
   "metadata": {},
   "source": [
    "#### 变量Name\n",
    "- id：变量名\n",
    "- ctx：类型，有加载Load、存储Store、删除Del等多个类型"
   ]
  },
  {
   "cell_type": "markdown",
   "metadata": {},
   "source": [
    "#### 函数调用Call\n",
    "- func 调用函数，类型为Name，通过Name.id拿到函数名\n",
    "- args 参数\n",
    "\n",
    "一般作为Expr或者Assign的子节点\n",
    "- func() 为Expr类型\n",
    "- result=rpt.query(sql) 为Assign类型"
   ]
  },
  {
   "cell_type": "markdown",
   "metadata": {},
   "source": [
    "#### 表达式 Expr\n",
    "只有value一个属性\n",
    "\n",
    "一般有以下几种类型：\n",
    "- 纯变量： \n",
    "```\n",
    "x\n",
    "```\n",
    "- 无赋值函数调用： \n",
    "```\n",
    "func()\n",
    "func(xx)\n",
    "rpt_db.query(sql)\n",
    "```"
   ]
  },
  {
   "cell_type": "code",
   "execution_count": 6,
   "metadata": {},
   "outputs": [
    {
     "name": "stdout",
     "output_type": "stream",
     "text": [
      "Expr(\n",
      "    lineno=1,\n",
      "    col_offset=0,\n",
      "    value=Name(lineno=1, col_offset=0, id='x', ctx=Load()),\n",
      ")\n"
     ]
    }
   ],
   "source": [
    "astshow(\"x\")"
   ]
  },
  {
   "cell_type": "code",
   "execution_count": 5,
   "metadata": {},
   "outputs": [
    {
     "name": "stdout",
     "output_type": "stream",
     "text": [
      "Expr(\n",
      "    lineno=1,\n",
      "    col_offset=0,\n",
      "    value=Call(\n",
      "        lineno=1,\n",
      "        col_offset=0,\n",
      "        func=Name(lineno=1, col_offset=0, id='func', ctx=Load()),\n",
      "        args=[],\n",
      "        keywords=[],\n",
      "        starargs=None,\n",
      "        kwargs=None,\n",
      "    ),\n",
      ")\n"
     ]
    }
   ],
   "source": [
    "astshow(\"func()\")"
   ]
  },
  {
   "cell_type": "code",
   "execution_count": 7,
   "metadata": {},
   "outputs": [
    {
     "name": "stdout",
     "output_type": "stream",
     "text": [
      "Expr(\n",
      "    lineno=1,\n",
      "    col_offset=0,\n",
      "    value=Call(\n",
      "        lineno=1,\n",
      "        col_offset=0,\n",
      "        func=Name(lineno=1, col_offset=0, id='clear_table', ctx=Load()),\n",
      "        args=[Str(lineno=1, col_offset=12, s='tbl_tn_order_detail_temp')],\n",
      "        keywords=[],\n",
      "        starargs=None,\n",
      "        kwargs=None,\n",
      "    ),\n",
      ")\n"
     ]
    }
   ],
   "source": [
    "astshow(\"clear_table('tbl_tn_order_detail_temp')\")"
   ]
  },
  {
   "cell_type": "code",
   "execution_count": 15,
   "metadata": {},
   "outputs": [
    {
     "name": "stdout",
     "output_type": "stream",
     "text": [
      "Expr(\n",
      "    lineno=1,\n",
      "    col_offset=0,\n",
      "    value=Call(\n",
      "        lineno=1,\n",
      "        col_offset=0,\n",
      "        func=Attribute(\n",
      "            lineno=1,\n",
      "            col_offset=0,\n",
      "            value=Name(lineno=1, col_offset=0, id='rpt_db', ctx=Load()),\n",
      "            attr='query',\n",
      "            ctx=Load(),\n",
      "        ),\n",
      "        args=[\n",
      "            Name(lineno=1, col_offset=13, id='sql', ctx=Load()),\n",
      "            BinOp(\n",
      "                lineno=1,\n",
      "                col_offset=18,\n",
      "                left=Str(lineno=1, col_offset=18, s='what %d'),\n",
      "                op=Mod(),\n",
      "                right=Num(lineno=1, col_offset=30, n=66),\n",
      "            ),\n",
      "        ],\n",
      "        keywords=[\n",
      "            keyword(\n",
      "                arg='name',\n",
      "                value=Str(lineno=1, col_offset=39, s='fancy'),\n",
      "            ),\n",
      "        ],\n",
      "        starargs=Name(lineno=1, col_offset=49, id='some', ctx=Load()),\n",
      "        kwargs=Name(lineno=1, col_offset=57, id='kvsome', ctx=Load()),\n",
      "    ),\n",
      ")\n"
     ]
    }
   ],
   "source": [
    "astshow(\"rpt_db.query(sql, 'what %d' % 66, name='fancy', *some, **kvsome)\")"
   ]
  },
  {
   "cell_type": "markdown",
   "metadata": {},
   "source": [
    "#### 赋值语句 Assign\n",
    "两个属性：\n",
    "- targets。被赋值的对象\n",
    "    - 是一个列表，可以多重赋值。比如a=b=c=6\n",
    "- value。赋值的对象，在AST中有多种节点\n",
    "    - Num/Str/List/Dict等"
   ]
  },
  {
   "cell_type": "code",
   "execution_count": 13,
   "metadata": {},
   "outputs": [
    {
     "name": "stdout",
     "output_type": "stream",
     "text": [
      "Assign(\n",
      "    lineno=1,\n",
      "    col_offset=0,\n",
      "    targets=[Name(lineno=1, col_offset=0, id='x', ctx=Store())],\n",
      "    value=Num(lineno=1, col_offset=2, n=666),\n",
      ")\n"
     ]
    }
   ],
   "source": [
    "astpretty.pprint(ast.parse(\"x=666\").body[0])"
   ]
  },
  {
   "cell_type": "code",
   "execution_count": 45,
   "metadata": {},
   "outputs": [
    {
     "name": "stdout",
     "output_type": "stream",
     "text": [
      "Assign(\n",
      "    lineno=1,\n",
      "    col_offset=0,\n",
      "    targets=[Name(lineno=1, col_offset=0, id='x', ctx=Store())],\n",
      "    value=Name(lineno=1, col_offset=4, id='y', ctx=Load()),\n",
      ")\n"
     ]
    }
   ],
   "source": [
    "astshow(\"x = y\")"
   ]
  },
  {
   "cell_type": "code",
   "execution_count": 19,
   "metadata": {},
   "outputs": [
    {
     "name": "stdout",
     "output_type": "stream",
     "text": [
      "Module(\n",
      "    body=[\n",
      "        Assign(\n",
      "            lineno=1,\n",
      "            col_offset=0,\n",
      "            targets=[\n",
      "                Name(lineno=1, col_offset=0, id='x', ctx=Store()),\n",
      "                Name(lineno=1, col_offset=2, id='y', ctx=Store()),\n",
      "                Name(lineno=1, col_offset=4, id='z', ctx=Store()),\n",
      "            ],\n",
      "            value=Num(lineno=1, col_offset=6, n=6),\n",
      "        ),\n",
      "    ],\n",
      ")\n"
     ]
    }
   ],
   "source": [
    "astpretty.pprint(ast.parse(\"x=y=z=6\"))"
   ]
  },
  {
   "cell_type": "code",
   "execution_count": 16,
   "metadata": {},
   "outputs": [
    {
     "name": "stdout",
     "output_type": "stream",
     "text": [
      "Assign(\n",
      "    lineno=1,\n",
      "    col_offset=0,\n",
      "    targets=[\n",
      "        Tuple(\n",
      "            lineno=1,\n",
      "            col_offset=0,\n",
      "            elts=[\n",
      "                Name(lineno=1, col_offset=0, id='x', ctx=Store()),\n",
      "                Name(lineno=1, col_offset=2, id='y', ctx=Store()),\n",
      "            ],\n",
      "            ctx=Store(),\n",
      "        ),\n",
      "    ],\n",
      "    value=Tuple(\n",
      "        lineno=1,\n",
      "        col_offset=4,\n",
      "        elts=[\n",
      "            Num(lineno=1, col_offset=4, n=66),\n",
      "            Str(lineno=1, col_offset=7, s='fancy'),\n",
      "        ],\n",
      "        ctx=Load(),\n",
      "    ),\n",
      ")\n"
     ]
    }
   ],
   "source": [
    "astpretty.pprint(ast.parse(\"x,y=66,'fancy'\").body[0])"
   ]
  },
  {
   "cell_type": "code",
   "execution_count": 48,
   "metadata": {},
   "outputs": [
    {
     "name": "stdout",
     "output_type": "stream",
     "text": [
      "Assign(\n",
      "    lineno=1,\n",
      "    col_offset=0,\n",
      "    targets=[Name(lineno=1, col_offset=0, id='sql', ctx=Store())],\n",
      "    value=BinOp(\n",
      "        lineno=1,\n",
      "        col_offset=6,\n",
      "        left=Str(lineno=1, col_offset=6, s='select %s'),\n",
      "        op=Mod(),\n",
      "        right=Name(lineno=1, col_offset=20, id='name', ctx=Load()),\n",
      "    ),\n",
      ")\n"
     ]
    }
   ],
   "source": [
    "astshow(\"sql = 'select %s' % name\")"
   ]
  },
  {
   "cell_type": "code",
   "execution_count": 44,
   "metadata": {},
   "outputs": [
    {
     "name": "stdout",
     "output_type": "stream",
     "text": [
      "Assign(\n",
      "    lineno=1,\n",
      "    col_offset=0,\n",
      "    targets=[Name(lineno=1, col_offset=0, id='r', ctx=Store())],\n",
      "    value=Call(\n",
      "        lineno=1,\n",
      "        col_offset=4,\n",
      "        func=Name(lineno=1, col_offset=4, id='query', ctx=Load()),\n",
      "        args=[Name(lineno=1, col_offset=10, id='sql', ctx=Load())],\n",
      "        keywords=[],\n",
      "        starargs=None,\n",
      "        kwargs=None,\n",
      "    ),\n",
      ")\n"
     ]
    }
   ],
   "source": [
    "astshow(\"r = query(sql)\")"
   ]
  },
  {
   "cell_type": "code",
   "execution_count": 21,
   "metadata": {},
   "outputs": [
    {
     "name": "stdout",
     "output_type": "stream",
     "text": [
      "Assign(\n",
      "    lineno=1,\n",
      "    col_offset=0,\n",
      "    targets=[Name(lineno=1, col_offset=0, id='r', ctx=Store())],\n",
      "    value=Call(\n",
      "        lineno=1,\n",
      "        col_offset=4,\n",
      "        func=Attribute(\n",
      "            lineno=1,\n",
      "            col_offset=4,\n",
      "            value=Name(lineno=1, col_offset=4, id='rpt_db', ctx=Load()),\n",
      "            attr='query',\n",
      "            ctx=Load(),\n",
      "        ),\n",
      "        args=[Name(lineno=1, col_offset=17, id='sql', ctx=Load())],\n",
      "        keywords=[],\n",
      "        starargs=None,\n",
      "        kwargs=None,\n",
      "    ),\n",
      ")\n"
     ]
    }
   ],
   "source": [
    "astshow(\"r = rpt_db.query(sql)\")"
   ]
  },
  {
   "cell_type": "code",
   "execution_count": 46,
   "metadata": {},
   "outputs": [
    {
     "name": "stdout",
     "output_type": "stream",
     "text": [
      "Assign(\n",
      "    lineno=1,\n",
      "    col_offset=0,\n",
      "    targets=[Name(lineno=1, col_offset=0, id='today', ctx=Store())],\n",
      "    value=BinOp(\n",
      "        lineno=1,\n",
      "        col_offset=8,\n",
      "        left=Name(lineno=1, col_offset=8, id='days', ctx=Load()),\n",
      "        op=Add(),\n",
      "        right=Call(\n",
      "            lineno=1,\n",
      "            col_offset=15,\n",
      "            func=Attribute(\n",
      "                lineno=1,\n",
      "                col_offset=15,\n",
      "                value=Name(lineno=1, col_offset=15, id='datetime', ctx=Load()),\n",
      "                attr='timedelta',\n",
      "                ctx=Load(),\n",
      "            ),\n",
      "            args=[],\n",
      "            keywords=[\n",
      "                keyword(\n",
      "                    arg='days',\n",
      "                    value=Num(lineno=1, col_offset=39, n=1),\n",
      "                ),\n",
      "            ],\n",
      "            starargs=None,\n",
      "            kwargs=None,\n",
      "        ),\n",
      "    ),\n",
      ")\n"
     ]
    }
   ],
   "source": [
    "astshow(\"today = days + datetime.timedelta(days=1)\")"
   ]
  },
  {
   "cell_type": "code",
   "execution_count": 47,
   "metadata": {},
   "outputs": [
    {
     "name": "stdout",
     "output_type": "stream",
     "text": [
      "Assign(\n",
      "    lineno=1,\n",
      "    col_offset=0,\n",
      "    targets=[Name(lineno=1, col_offset=0, id='start_time', ctx=Store())],\n",
      "    value=Call(\n",
      "        lineno=1,\n",
      "        col_offset=13,\n",
      "        func=Attribute(\n",
      "            lineno=1,\n",
      "            col_offset=13,\n",
      "            value=Attribute(\n",
      "                lineno=1,\n",
      "                col_offset=13,\n",
      "                value=Name(lineno=1, col_offset=13, id='datetime', ctx=Load()),\n",
      "                attr='datetime',\n",
      "                ctx=Load(),\n",
      "            ),\n",
      "            attr='today',\n",
      "            ctx=Load(),\n",
      "        ),\n",
      "        args=[],\n",
      "        keywords=[],\n",
      "        starargs=None,\n",
      "        kwargs=None,\n",
      "    ),\n",
      ")\n"
     ]
    }
   ],
   "source": [
    "astshow(\"start_time = datetime.datetime.today()\")"
   ]
  },
  {
   "cell_type": "markdown",
   "metadata": {},
   "source": [
    "#### 属性获取Attribute\n",
    "一般也属于Expr或者Assign的子节点\n",
    "- value: 属性所属的对象\n",
    "- attr: 要获取的属性名称\n",
    "\n",
    "一旦属性是一个方法，则整个表达式的value都变为Call"
   ]
  },
  {
   "cell_type": "code",
   "execution_count": 13,
   "metadata": {},
   "outputs": [
    {
     "name": "stdout",
     "output_type": "stream",
     "text": [
      "Expr(\n",
      "    lineno=1,\n",
      "    col_offset=0,\n",
      "    value=Attribute(\n",
      "        lineno=1,\n",
      "        col_offset=0,\n",
      "        value=Attribute(\n",
      "            lineno=1,\n",
      "            col_offset=0,\n",
      "            value=Name(lineno=1, col_offset=0, id='obj', ctx=Load()),\n",
      "            attr='a',\n",
      "            ctx=Load(),\n",
      "        ),\n",
      "        attr='b',\n",
      "        ctx=Load(),\n",
      "    ),\n",
      ")\n"
     ]
    }
   ],
   "source": [
    "astshow(\"obj.a.b\")"
   ]
  },
  {
   "cell_type": "code",
   "execution_count": 12,
   "metadata": {},
   "outputs": [
    {
     "name": "stdout",
     "output_type": "stream",
     "text": [
      "Expr(\n",
      "    lineno=1,\n",
      "    col_offset=0,\n",
      "    value=Call(\n",
      "        lineno=1,\n",
      "        col_offset=0,\n",
      "        func=Attribute(\n",
      "            lineno=1,\n",
      "            col_offset=0,\n",
      "            value=Attribute(\n",
      "                lineno=1,\n",
      "                col_offset=0,\n",
      "                value=Name(lineno=1, col_offset=0, id='obj', ctx=Load()),\n",
      "                attr='a',\n",
      "                ctx=Load(),\n",
      "            ),\n",
      "            attr='func',\n",
      "            ctx=Load(),\n",
      "        ),\n",
      "        args=[Name(lineno=1, col_offset=11, id='x', ctx=Load())],\n",
      "        keywords=[],\n",
      "        starargs=None,\n",
      "        kwargs=None,\n",
      "    ),\n",
      ")\n"
     ]
    }
   ],
   "source": [
    "astshow(\"obj.a.func(x)\")"
   ]
  },
  {
   "cell_type": "code",
   "execution_count": 14,
   "metadata": {},
   "outputs": [
    {
     "name": "stdout",
     "output_type": "stream",
     "text": [
      "Expr(\n",
      "    lineno=1,\n",
      "    col_offset=0,\n",
      "    value=Call(\n",
      "        lineno=1,\n",
      "        col_offset=0,\n",
      "        func=Attribute(\n",
      "            lineno=1,\n",
      "            col_offset=0,\n",
      "            value=Str(lineno=1, col_offset=0, s='fancy'),\n",
      "            attr='split',\n",
      "            ctx=Load(),\n",
      "        ),\n",
      "        args=[],\n",
      "        keywords=[],\n",
      "        starargs=None,\n",
      "        kwargs=None,\n",
      "    ),\n",
      ")\n"
     ]
    }
   ],
   "source": [
    "astshow(\"'fancy'.split()\")"
   ]
  },
  {
   "cell_type": "markdown",
   "metadata": {},
   "source": [
    "#### 循环for语句\n"
   ]
  },
  {
   "cell_type": "code",
   "execution_count": 16,
   "metadata": {},
   "outputs": [
    {
     "name": "stdout",
     "output_type": "stream",
     "text": [
      "For(\n",
      "    lineno=2,\n",
      "    col_offset=0,\n",
      "    target=Name(lineno=2, col_offset=4, id='value', ctx=Store()),\n",
      "    iter=Name(lineno=2, col_offset=13, id='result_r', ctx=Load()),\n",
      "    body=[\n",
      "        Assign(\n",
      "            lineno=3,\n",
      "            col_offset=4,\n",
      "            targets=[Name(lineno=3, col_offset=4, id='sql', ctx=Store())],\n",
      "            value=BinOp(\n",
      "                lineno=3,\n",
      "                col_offset=10,\n",
      "                left=Str(lineno=3, col_offset=10, s=\"select '%s'\"),\n",
      "                op=Mod(),\n",
      "                right=Name(lineno=3, col_offset=26, id='value', ctx=Load()),\n",
      "            ),\n",
      "        ),\n",
      "    ],\n",
      "    orelse=[],\n",
      ")\n"
     ]
    }
   ],
   "source": [
    "txt = \"\"\"\n",
    "for value in result_r:\n",
    "    sql = \"select '%s'\" % value\n",
    "\"\"\"\n",
    "astshow(txt)"
   ]
  },
  {
   "cell_type": "markdown",
   "metadata": {},
   "source": [
    "#### 函数定义 FunctionDef\n",
    "- name：函数\n",
    "- args：参数\n",
    "- body：函数定义的主体\n",
    "- decorator_list：装饰器信息"
   ]
  },
  {
   "cell_type": "code",
   "execution_count": 30,
   "metadata": {},
   "outputs": [
    {
     "name": "stdout",
     "output_type": "stream",
     "text": [
      "FunctionDef(\n",
      "    lineno=2,\n",
      "    col_offset=0,\n",
      "    name='insert_tn_nifa_cust_ana',\n",
      "    args=arguments(\n",
      "        args=[Name(lineno=3, col_offset=28, id='days', ctx=Param())],\n",
      "        vararg=None,\n",
      "        kwarg=None,\n",
      "        defaults=[],\n",
      "    ),\n",
      "    body=[\n",
      "        Assign(\n",
      "            lineno=4,\n",
      "            col_offset=4,\n",
      "            targets=[Name(lineno=4, col_offset=4, id='statdate', ctx=Store())],\n",
      "            value=Call(\n",
      "                lineno=4,\n",
      "                col_offset=15,\n",
      "                func=Attribute(\n",
      "                    lineno=4,\n",
      "                    col_offset=15,\n",
      "                    value=Name(lineno=4, col_offset=15, id='days', ctx=Load()),\n",
      "                    attr='strftime',\n",
      "                    ctx=Load(),\n",
      "                ),\n",
      "                args=[Str(lineno=4, col_offset=29, s='%Y%m%d')],\n",
      "                keywords=[],\n",
      "                starargs=None,\n",
      "                kwargs=None,\n",
      "            ),\n",
      "        ),\n",
      "    ],\n",
      "    decorator_list=[Name(lineno=2, col_offset=1, id='myself', ctx=Load())],\n",
      ")\n"
     ]
    }
   ],
   "source": [
    "txt = \"\"\"\n",
    "@myself\n",
    "def insert_tn_nifa_cust_ana(days):\n",
    "    statdate = days.strftime('%Y%m%d')\n",
    "\"\"\"\n",
    "astshow(txt)"
   ]
  },
  {
   "cell_type": "markdown",
   "metadata": {},
   "source": [
    "#### Print"
   ]
  },
  {
   "cell_type": "code",
   "execution_count": 31,
   "metadata": {},
   "outputs": [
    {
     "name": "stdout",
     "output_type": "stream",
     "text": [
      "Print(\n",
      "    lineno=1,\n",
      "    col_offset=0,\n",
      "    dest=None,\n",
      "    values=[Num(lineno=1, col_offset=6, n=666)],\n",
      "    nl=True,\n",
      ")\n"
     ]
    }
   ],
   "source": [
    "astshow(\"print 666\")"
   ]
  },
  {
   "cell_type": "code",
   "execution_count": 33,
   "metadata": {},
   "outputs": [
    {
     "name": "stdout",
     "output_type": "stream",
     "text": [
      "Expr(\n",
      "    lineno=1,\n",
      "    col_offset=0,\n",
      "    value=Call(\n",
      "        lineno=1,\n",
      "        col_offset=0,\n",
      "        func=Attribute(\n",
      "            lineno=1,\n",
      "            col_offset=0,\n",
      "            value=Attribute(\n",
      "                lineno=1,\n",
      "                col_offset=0,\n",
      "                value=Name(lineno=1, col_offset=0, id='xxx', ctx=Load()),\n",
      "                attr='rpt_db',\n",
      "                ctx=Load(),\n",
      "            ),\n",
      "            attr='close',\n",
      "            ctx=Load(),\n",
      "        ),\n",
      "        args=[],\n",
      "        keywords=[],\n",
      "        starargs=None,\n",
      "        kwargs=None,\n",
      "    ),\n",
      ")\n"
     ]
    }
   ],
   "source": [
    "astshow(\"xxx.rpt_db.close()\")"
   ]
  },
  {
   "cell_type": "code",
   "execution_count": 34,
   "metadata": {},
   "outputs": [
    {
     "name": "stdout",
     "output_type": "stream",
     "text": [
      "If(\n",
      "    lineno=2,\n",
      "    col_offset=0,\n",
      "    test=Compare(\n",
      "        lineno=2,\n",
      "        col_offset=3,\n",
      "        left=Name(lineno=2, col_offset=3, id='__name__', ctx=Load()),\n",
      "        ops=[Eq()],\n",
      "        comparators=[Str(lineno=2, col_offset=15, s='__main__')],\n",
      "    ),\n",
      "    body=[\n",
      "        Print(\n",
      "            lineno=3,\n",
      "            col_offset=4,\n",
      "            dest=None,\n",
      "            values=[Num(lineno=3, col_offset=10, n=666)],\n",
      "            nl=True,\n",
      "        ),\n",
      "    ],\n",
      "    orelse=[],\n",
      ")\n"
     ]
    }
   ],
   "source": [
    "txt = \"\"\"\n",
    "if __name__ == \"__main__\":\n",
    "    print 666\n",
    "\"\"\"\n",
    "astshow(txt)"
   ]
  },
  {
   "cell_type": "markdown",
   "metadata": {},
   "source": [
    "#### 字典赋值\n"
   ]
  },
  {
   "cell_type": "code",
   "execution_count": 37,
   "metadata": {},
   "outputs": [
    {
     "name": "stdout",
     "output_type": "stream",
     "text": [
      "Module(\n",
      "    body=[\n",
      "        Assign(\n",
      "            lineno=2,\n",
      "            col_offset=0,\n",
      "            targets=[Name(lineno=2, col_offset=0, id='data', ctx=Store())],\n",
      "            value=Dict(lineno=2, col_offset=7, keys=[], values=[]),\n",
      "        ),\n",
      "        Assign(\n",
      "            lineno=3,\n",
      "            col_offset=0,\n",
      "            targets=[\n",
      "                Subscript(\n",
      "                    lineno=3,\n",
      "                    col_offset=0,\n",
      "                    value=Name(lineno=3, col_offset=0, id='data', ctx=Load()),\n",
      "                    slice=Index(\n",
      "                        value=Str(lineno=3, col_offset=5, s='last_item'),\n",
      "                    ),\n",
      "                    ctx=Store(),\n",
      "                ),\n",
      "            ],\n",
      "            value=Name(lineno=3, col_offset=20, id='shouldupdatedb', ctx=Load()),\n",
      "        ),\n",
      "    ],\n",
      ")\n"
     ]
    }
   ],
   "source": [
    "txt = \"\"\"\n",
    "data = {}\n",
    "data['last_item'] = shouldupdatedb\n",
    "\"\"\"\n",
    "astshowall(txt)"
   ]
  },
  {
   "cell_type": "markdown",
   "metadata": {},
   "source": [
    "#### 占位符赋值BinOp"
   ]
  },
  {
   "cell_type": "code",
   "execution_count": 39,
   "metadata": {},
   "outputs": [
    {
     "name": "stdout",
     "output_type": "stream",
     "text": [
      "Module(\n",
      "    body=[\n",
      "        Assign(\n",
      "            lineno=1,\n",
      "            col_offset=0,\n",
      "            targets=[Name(lineno=1, col_offset=0, id='x', ctx=Store())],\n",
      "            value=BinOp(\n",
      "                lineno=1,\n",
      "                col_offset=4,\n",
      "                left=Str(lineno=1, col_offset=4, s='today %s yes'),\n",
      "                op=Mod(),\n",
      "                right=Name(lineno=1, col_offset=21, id='day', ctx=Load()),\n",
      "            ),\n",
      "        ),\n",
      "    ],\n",
      ")\n"
     ]
    }
   ],
   "source": [
    "astshowall(\"x = 'today %s yes' % day\")"
   ]
  },
  {
   "cell_type": "code",
   "execution_count": 40,
   "metadata": {},
   "outputs": [
    {
     "name": "stdout",
     "output_type": "stream",
     "text": [
      "Module(\n",
      "    body=[\n",
      "        Assign(\n",
      "            lineno=2,\n",
      "            col_offset=0,\n",
      "            targets=[Name(lineno=2, col_offset=0, id='sql', ctx=Store())],\n",
      "            value=BinOp(\n",
      "                lineno=2,\n",
      "                col_offset=6,\n",
      "                left=Str(lineno=2, col_offset=6, s=\"update tbs_nifa_bond_project_his_temp a,tb_finance_xiaodai_overdue b,tio_tn_dw_borrow_extend_his c                set a.isDue = 1              where a.oldProjectCode = c.borrow_id                AND substr(c.borrow_contract,1,INSTR(c.borrow_contract,'_SPV0')-1) = b.contractno                and c.borrow_contract like '%%_SPV0%%'                and b.loancode in('P001','P008','P011','P013','P016','P017','P018','car_owner_credit')                 and b.NORETURNAMT>0                and b.stadate = '%s'\"),\n",
      "                op=Mod(),\n",
      "                right=Name(lineno=2, col_offset=516, id='statdate', ctx=Load()),\n",
      "            ),\n",
      "        ),\n",
      "    ],\n",
      ")\n"
     ]
    }
   ],
   "source": [
    "txt = \"\"\"\n",
    "sql = \"update tbs_nifa_bond_project_his_temp a,tb_finance_xiaodai_overdue b,tio_tn_dw_borrow_extend_his c\\\n",
    "                set a.isDue = 1\\\n",
    "              where a.oldProjectCode = c.borrow_id\\\n",
    "                AND substr(c.borrow_contract,1,INSTR(c.borrow_contract,'_SPV0')-1) = b.contractno\\\n",
    "                and c.borrow_contract like \\'%%_SPV0%%\\'\\\n",
    "                and b.loancode in('P001','P008','P011','P013','P016','P017','P018','car_owner_credit') \\\n",
    "                and b.NORETURNAMT>0\\\n",
    "                and b.stadate = '%s'\" % (statdate)\n",
    "\"\"\"\n",
    "astshowall(txt)"
   ]
  },
  {
   "cell_type": "markdown",
   "metadata": {},
   "source": [
    "#### main\n"
   ]
  },
  {
   "cell_type": "code",
   "execution_count": 43,
   "metadata": {},
   "outputs": [
    {
     "name": "stdout",
     "output_type": "stream",
     "text": [
      "Module(\n",
      "    body=[\n",
      "        Assign(\n",
      "            lineno=2,\n",
      "            col_offset=0,\n",
      "            targets=[Name(lineno=2, col_offset=0, id='today', ctx=Store())],\n",
      "            value=Call(\n",
      "                lineno=2,\n",
      "                col_offset=8,\n",
      "                func=Name(lineno=2, col_offset=8, id='date', ctx=Load()),\n",
      "                args=[],\n",
      "                keywords=[],\n",
      "                starargs=None,\n",
      "                kwargs=None,\n",
      "            ),\n",
      "        ),\n",
      "        FunctionDef(\n",
      "            lineno=3,\n",
      "            col_offset=0,\n",
      "            name='func',\n",
      "            args=arguments(args=[], vararg=None, kwarg=None, defaults=[]),\n",
      "            body=[\n",
      "                Print(\n",
      "                    lineno=4,\n",
      "                    col_offset=4,\n",
      "                    dest=None,\n",
      "                    values=[Num(lineno=4, col_offset=10, n=666)],\n",
      "                    nl=True,\n",
      "                ),\n",
      "            ],\n",
      "            decorator_list=[],\n",
      "        ),\n",
      "        If(\n",
      "            lineno=5,\n",
      "            col_offset=0,\n",
      "            test=Compare(\n",
      "                lineno=5,\n",
      "                col_offset=3,\n",
      "                left=Name(lineno=5, col_offset=3, id='__name__', ctx=Load()),\n",
      "                ops=[Eq()],\n",
      "                comparators=[Str(lineno=5, col_offset=15, s='__main__')],\n",
      "            ),\n",
      "            body=[\n",
      "                Expr(\n",
      "                    lineno=6,\n",
      "                    col_offset=4,\n",
      "                    value=Call(\n",
      "                        lineno=6,\n",
      "                        col_offset=4,\n",
      "                        func=Name(lineno=6, col_offset=4, id='func', ctx=Load()),\n",
      "                        args=[],\n",
      "                        keywords=[],\n",
      "                        starargs=None,\n",
      "                        kwargs=None,\n",
      "                    ),\n",
      "                ),\n",
      "            ],\n",
      "            orelse=[],\n",
      "        ),\n",
      "    ],\n",
      ")\n"
     ]
    }
   ],
   "source": [
    "txt = \"\"\"\n",
    "today = date()\n",
    "def func():\n",
    "    print 666\n",
    "if __name__ == \"__main__\":\n",
    "    func()\n",
    "\"\"\"\n",
    "astshowall(txt)"
   ]
  },
  {
   "cell_type": "markdown",
   "metadata": {},
   "source": [
    "### Subscript"
   ]
  },
  {
   "cell_type": "code",
   "execution_count": 2,
   "metadata": {},
   "outputs": [
    {
     "name": "stdout",
     "output_type": "stream",
     "text": [
      "Assign(\n",
      "    lineno=1,\n",
      "    col_offset=0,\n",
      "    targets=[Name(lineno=1, col_offset=0, id='x', ctx=Store())],\n",
      "    value=Subscript(\n",
      "        lineno=1,\n",
      "        col_offset=4,\n",
      "        value=Name(lineno=1, col_offset=4, id='l', ctx=Load()),\n",
      "        slice=Index(\n",
      "            value=Num(lineno=1, col_offset=6, n=2),\n",
      "        ),\n",
      "        ctx=Load(),\n",
      "    ),\n",
      ")\n"
     ]
    }
   ],
   "source": [
    "astshow(\"x = l[2]\")"
   ]
  },
  {
   "cell_type": "code",
   "execution_count": null,
   "metadata": {},
   "outputs": [],
   "source": []
  }
 ],
 "metadata": {
  "kernelspec": {
   "display_name": "Python 2",
   "language": "python",
   "name": "python2"
  },
  "language_info": {
   "codemirror_mode": {
    "name": "ipython",
    "version": 2
   },
   "file_extension": ".py",
   "mimetype": "text/x-python",
   "name": "python",
   "nbconvert_exporter": "python",
   "pygments_lexer": "ipython2",
   "version": "2.7.14"
  }
 },
 "nbformat": 4,
 "nbformat_minor": 2
}
